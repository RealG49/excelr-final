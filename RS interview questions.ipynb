{
 "cells": [
  {
   "cell_type": "code",
   "execution_count": 1,
   "id": "ddd6615d",
   "metadata": {},
   "outputs": [
    {
     "data": {
      "text/markdown": [
       "\n",
       "1. Difference Between User-Based and Item-Based Collaborative Filtering\n",
       "\n",
       "- **User-Based Collaborative Filtering:** \n",
       "  - Finds similar users based on past behaviors.\n",
       "  - Recommends items liked by similar users.\n",
       "  - Uses user-user similarity matrix.\n",
       "\n",
       "- **Item-Based Collaborative Filtering:** \n",
       "  - Finds similar items based on user interactions.\n",
       "  - Recommends items similar to what a user has interacted with.\n",
       "  - Uses item-item similarity matrix.\n"
      ],
      "text/plain": [
       "<IPython.core.display.Markdown object>"
      ]
     },
     "metadata": {},
     "output_type": "display_data"
    },
    {
     "data": {
      "text/markdown": [
       "\n",
       "2. What is Collaborative Filtering and How Does It Work?\n",
       "\n",
       "Collaborative filtering is a recommendation technique that suggests items based on interactions and preferences of similar users.\n",
       "Steps:\n",
       "1. Collect user-item interaction data.\n",
       "2. Compute similarity matrix (user-user or item-item).\n",
       "3. Predict user preferences using historical data.\n",
       "4. Recommend high-scoring items.\n"
      ],
      "text/plain": [
       "<IPython.core.display.Markdown object>"
      ]
     },
     "metadata": {},
     "output_type": "display_data"
    }
   ],
   "source": [
    "# Define answers\n",
    "answer_1 = \"\"\"\n",
    "1. Difference Between User-Based and Item-Based Collaborative Filtering\n",
    "\n",
    "- **User-Based Collaborative Filtering:** \n",
    "  - Finds similar users based on past behaviors.\n",
    "  - Recommends items liked by similar users.\n",
    "  - Uses user-user similarity matrix.\n",
    "\n",
    "- **Item-Based Collaborative Filtering:** \n",
    "  - Finds similar items based on user interactions.\n",
    "  - Recommends items similar to what a user has interacted with.\n",
    "  - Uses item-item similarity matrix.\n",
    "\"\"\"\n",
    "\n",
    "answer_2 = \"\"\"\n",
    "2. What is Collaborative Filtering and How Does It Work?\n",
    "\n",
    "Collaborative filtering is a recommendation technique that suggests items based on interactions and preferences of similar users.\n",
    "Steps:\n",
    "1. Collect user-item interaction data.\n",
    "2. Compute similarity matrix (user-user or item-item).\n",
    "3. Predict user preferences using historical data.\n",
    "4. Recommend high-scoring items.\n",
    "\"\"\"\n",
    "\n",
    "# Print answers in Jupyter Notebook\n",
    "from IPython.display import display, Markdown\n",
    "\n",
    "display(Markdown(answer_1))\n",
    "display(Markdown(answer_2))\n"
   ]
  },
  {
   "cell_type": "code",
   "execution_count": null,
   "id": "b612720a",
   "metadata": {},
   "outputs": [],
   "source": []
  }
 ],
 "metadata": {
  "kernelspec": {
   "display_name": "Python 3 (ipykernel)",
   "language": "python",
   "name": "python3"
  },
  "language_info": {
   "codemirror_mode": {
    "name": "ipython",
    "version": 3
   },
   "file_extension": ".py",
   "mimetype": "text/x-python",
   "name": "python",
   "nbconvert_exporter": "python",
   "pygments_lexer": "ipython3",
   "version": "3.11.5"
  }
 },
 "nbformat": 4,
 "nbformat_minor": 5
}
