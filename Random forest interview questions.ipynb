{
 "cells": [
  {
   "cell_type": "code",
   "execution_count": 1,
   "id": "c0d6c216",
   "metadata": {},
   "outputs": [
    {
     "data": {
      "text/markdown": [
       "\n",
       "### 1. Bagging and Boosting: Explanation and Differences\n",
       "\n",
       "#### **Bagging (Bootstrap Aggregating)**\n",
       "- Improves accuracy by training multiple independent models on random subsets.\n",
       "- Uses sampling with replacement (Bootstrap).\n",
       "- Predictions are averaged (regression) or majority-voted (classification).\n",
       "- **Example**: Random Forest.\n",
       "\n",
       "#### **Boosting**\n",
       "- Models are trained sequentially, focusing on correcting previous errors.\n",
       "- Misclassified samples get higher weights.\n",
       "- **Example**: AdaBoost, Gradient Boosting, XGBoost.\n",
       "\n",
       "#### **Differences Between Bagging and Boosting**\n",
       "| Feature  | Bagging | Boosting |\n",
       "|----------|--------|----------|\n",
       "| **Training** | Models trained independently in parallel | Models trained sequentially |\n",
       "| **Focus** | Reduces variance | Reduces bias |\n",
       "| **Data Sampling** | Random sampling with replacement | Weighted sampling |\n",
       "| **Final Prediction** | Majority voting / Averaging | Weighted sum of weak learners |\n",
       "| **Example Algorithms** | Random Forest | AdaBoost, Gradient Boosting, XGBoost |\n"
      ],
      "text/plain": [
       "<IPython.core.display.Markdown object>"
      ]
     },
     "metadata": {},
     "output_type": "display_data"
    },
    {
     "data": {
      "text/markdown": [
       "\n",
       "### 2. Handling Imbalanced Data\n",
       "\n",
       "#### **Methods to Handle Imbalanced Data:**\n",
       "1. **Resampling Techniques**\n",
       "   - **Oversampling (SMOTE, Random Oversampling)**: Increases minority class samples.\n",
       "   - **Undersampling**: Reduces majority class samples.\n",
       "\n",
       "2. **Algorithmic Techniques**\n",
       "   - Use class-weighted models (e.g., XGBoost, Logistic Regression with class weights).\n",
       "   - Use cost-sensitive learning.\n",
       "\n",
       "3. **Evaluation Metrics**\n",
       "   - Use **Precision, Recall, F1-score, AUC-ROC** instead of Accuracy.\n"
      ],
      "text/plain": [
       "<IPython.core.display.Markdown object>"
      ]
     },
     "metadata": {},
     "output_type": "display_data"
    }
   ],
   "source": [
    "# Define answers\n",
    "answer_1 = \"\"\"\n",
    "### 1. Bagging and Boosting: Explanation and Differences\n",
    "\n",
    "#### **Bagging (Bootstrap Aggregating)**\n",
    "- Improves accuracy by training multiple independent models on random subsets.\n",
    "- Uses sampling with replacement (Bootstrap).\n",
    "- Predictions are averaged (regression) or majority-voted (classification).\n",
    "- **Example**: Random Forest.\n",
    "\n",
    "#### **Boosting**\n",
    "- Models are trained sequentially, focusing on correcting previous errors.\n",
    "- Misclassified samples get higher weights.\n",
    "- **Example**: AdaBoost, Gradient Boosting, XGBoost.\n",
    "\n",
    "#### **Differences Between Bagging and Boosting**\n",
    "| Feature  | Bagging | Boosting |\n",
    "|----------|--------|----------|\n",
    "| **Training** | Models trained independently in parallel | Models trained sequentially |\n",
    "| **Focus** | Reduces variance | Reduces bias |\n",
    "| **Data Sampling** | Random sampling with replacement | Weighted sampling |\n",
    "| **Final Prediction** | Majority voting / Averaging | Weighted sum of weak learners |\n",
    "| **Example Algorithms** | Random Forest | AdaBoost, Gradient Boosting, XGBoost |\n",
    "\"\"\"\n",
    "\n",
    "answer_2 = \"\"\"\n",
    "### 2. Handling Imbalanced Data\n",
    "\n",
    "#### **Methods to Handle Imbalanced Data:**\n",
    "1. **Resampling Techniques**\n",
    "   - **Oversampling (SMOTE, Random Oversampling)**: Increases minority class samples.\n",
    "   - **Undersampling**: Reduces majority class samples.\n",
    "\n",
    "2. **Algorithmic Techniques**\n",
    "   - Use class-weighted models (e.g., XGBoost, Logistic Regression with class weights).\n",
    "   - Use cost-sensitive learning.\n",
    "\n",
    "3. **Evaluation Metrics**\n",
    "   - Use **Precision, Recall, F1-score, AUC-ROC** instead of Accuracy.\n",
    "\"\"\"\n",
    "\n",
    "# Print answers in Jupyter Notebook\n",
    "from IPython.display import display, Markdown\n",
    "\n",
    "display(Markdown(answer_1))\n",
    "display(Markdown(answer_2))\n"
   ]
  },
  {
   "cell_type": "code",
   "execution_count": null,
   "id": "d54b6f18",
   "metadata": {},
   "outputs": [],
   "source": []
  }
 ],
 "metadata": {
  "kernelspec": {
   "display_name": "Python 3 (ipykernel)",
   "language": "python",
   "name": "python3"
  },
  "language_info": {
   "codemirror_mode": {
    "name": "ipython",
    "version": 3
   },
   "file_extension": ".py",
   "mimetype": "text/x-python",
   "name": "python",
   "nbconvert_exporter": "python",
   "pygments_lexer": "ipython3",
   "version": "3.11.5"
  }
 },
 "nbformat": 4,
 "nbformat_minor": 5
}
