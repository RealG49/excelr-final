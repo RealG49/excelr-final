{
 "cells": [
  {
   "cell_type": "code",
   "execution_count": 1,
   "id": "6a5684fd",
   "metadata": {},
   "outputs": [
    {
     "data": {
      "text/markdown": [
       "### 1️⃣ What are the key hyperparameters in KNN?"
      ],
      "text/plain": [
       "<IPython.core.display.Markdown object>"
      ]
     },
     "metadata": {},
     "output_type": "display_data"
    },
    {
     "data": {
      "text/markdown": [
       "**Key Hyperparameters in KNN:**\n",
       "\n",
       "1. **Number of Neighbors (K)** → Defines how many nearest points are considered for classification/regression.\n",
       "2. **Distance Metric** → Determines how distances between points are calculated (e.g., Euclidean, Manhattan).\n",
       "3. **Weight Function** →\n",
       "   - **Uniform** → All neighbors contribute equally.\n",
       "   - **Distance-based** → Closer neighbors have more influence.\n",
       "4. **Algorithm for Finding Neighbors** →\n",
       "   - **Brute Force** → Checks all distances (slower for large datasets).\n",
       "   - **KD-Tree** → Efficient for low-dimensional data.\n",
       "   - **Ball-Tree** → Used for high-dimensional data.\n",
       "5. **Leaf Size (for KD-Tree and Ball-Tree)** → Controls when to switch to brute force search.\n"
      ],
      "text/plain": [
       "<IPython.core.display.Markdown object>"
      ]
     },
     "metadata": {},
     "output_type": "display_data"
    },
    {
     "data": {
      "text/markdown": [
       "### 2️⃣ What distance metrics can be used in KNN?"
      ],
      "text/plain": [
       "<IPython.core.display.Markdown object>"
      ]
     },
     "metadata": {},
     "output_type": "display_data"
    },
    {
     "data": {
      "text/markdown": [
       "**Distance Metrics Used in KNN:**\n",
       "\n",
       "1. **Euclidean Distance** → Most commonly used, measures straight-line distance.\n",
       "   \\[ d(x, y) = \\sqrt{\\sum (x_i - y_i)^2} \\]\n",
       "2. **Manhattan Distance** → Measures distance along grid paths.\n",
       "   \\[ d(x, y) = \\sum |x_i - y_i| \\]\n",
       "3. **Minkowski Distance** → Generalization of Euclidean & Manhattan.\n",
       "   \\[ d(x, y) = \\left( \\sum |x_i - y_i|^p \\right)^{1/p} \\]\n",
       "   - If **p = 1** → Manhattan distance.\n",
       "   - If **p = 2** → Euclidean distance.\n",
       "4. **Chebyshev Distance** → Maximum absolute difference between coordinates.\n",
       "   \\[ d(x, y) = \\max |x_i - y_i| \\]\n",
       "5. **Hamming Distance** → Used for categorical data, counts mismatches.\n",
       "6. **Mahalanobis Distance** → Accounts for correlations between features.\n"
      ],
      "text/plain": [
       "<IPython.core.display.Markdown object>"
      ]
     },
     "metadata": {},
     "output_type": "display_data"
    }
   ],
   "source": [
    "from IPython.display import display, Markdown\n",
    "\n",
    "# Define questions and answers\n",
    "qa_pairs = [\n",
    "    (\"1️⃣ What are the key hyperparameters in KNN?\", \n",
    "     \"**Key Hyperparameters in KNN:**\\n\\n\"\n",
    "     \"1. **Number of Neighbors (K)** → Defines how many nearest points are considered for classification/regression.\\n\"\n",
    "     \"2. **Distance Metric** → Determines how distances between points are calculated (e.g., Euclidean, Manhattan).\\n\"\n",
    "     \"3. **Weight Function** →\\n\"\n",
    "     \"   - **Uniform** → All neighbors contribute equally.\\n\"\n",
    "     \"   - **Distance-based** → Closer neighbors have more influence.\\n\"\n",
    "     \"4. **Algorithm for Finding Neighbors** →\\n\"\n",
    "     \"   - **Brute Force** → Checks all distances (slower for large datasets).\\n\"\n",
    "     \"   - **KD-Tree** → Efficient for low-dimensional data.\\n\"\n",
    "     \"   - **Ball-Tree** → Used for high-dimensional data.\\n\"\n",
    "     \"5. **Leaf Size (for KD-Tree and Ball-Tree)** → Controls when to switch to brute force search.\\n\"),\n",
    "    \n",
    "    (\"2️⃣ What distance metrics can be used in KNN?\", \n",
    "     \"**Distance Metrics Used in KNN:**\\n\\n\"\n",
    "     \"1. **Euclidean Distance** → Most commonly used, measures straight-line distance.\\n\"\n",
    "     \"   \\\\[ d(x, y) = \\\\sqrt{\\\\sum (x_i - y_i)^2} \\\\]\\n\"\n",
    "     \"2. **Manhattan Distance** → Measures distance along grid paths.\\n\"\n",
    "     \"   \\\\[ d(x, y) = \\\\sum |x_i - y_i| \\\\]\\n\"\n",
    "     \"3. **Minkowski Distance** → Generalization of Euclidean & Manhattan.\\n\"\n",
    "     \"   \\\\[ d(x, y) = \\\\left( \\\\sum |x_i - y_i|^p \\\\right)^{1/p} \\\\]\\n\"\n",
    "     \"   - If **p = 1** → Manhattan distance.\\n\"\n",
    "     \"   - If **p = 2** → Euclidean distance.\\n\"\n",
    "     \"4. **Chebyshev Distance** → Maximum absolute difference between coordinates.\\n\"\n",
    "     \"   \\\\[ d(x, y) = \\\\max |x_i - y_i| \\\\]\\n\"\n",
    "     \"5. **Hamming Distance** → Used for categorical data, counts mismatches.\\n\"\n",
    "     \"6. **Mahalanobis Distance** → Accounts for correlations between features.\\n\")\n",
    "]\n",
    "\n",
    "# Display questions and answers in Markdown format\n",
    "for question, answer in qa_pairs:\n",
    "    display(Markdown(f\"### {question}\"))\n",
    "    display(Markdown(answer))\n"
   ]
  },
  {
   "cell_type": "code",
   "execution_count": null,
   "id": "b8e9e883",
   "metadata": {},
   "outputs": [],
   "source": []
  }
 ],
 "metadata": {
  "kernelspec": {
   "display_name": "Python 3 (ipykernel)",
   "language": "python",
   "name": "python3"
  },
  "language_info": {
   "codemirror_mode": {
    "name": "ipython",
    "version": 3
   },
   "file_extension": ".py",
   "mimetype": "text/x-python",
   "name": "python",
   "nbconvert_exporter": "python",
   "pygments_lexer": "ipython3",
   "version": "3.9.13"
  }
 },
 "nbformat": 4,
 "nbformat_minor": 5
}
